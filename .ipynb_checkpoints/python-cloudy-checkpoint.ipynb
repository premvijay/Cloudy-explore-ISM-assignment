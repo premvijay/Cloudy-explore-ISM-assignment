{
 "cells": [
  {
   "cell_type": "code",
   "execution_count": 1,
   "metadata": {},
   "outputs": [
    {
     "data": {
      "text/plain": [
       "'/usr1/student/premv/Documents/Cloudy-explore-ISM-assignment'"
      ]
     },
     "execution_count": 1,
     "metadata": {},
     "output_type": "execute_result"
    }
   ],
   "source": [
    "%matplotlib inline\n",
    "import numpy as np\n",
    "import matplotlib.pyplot as plt\n",
    "import pandas as pd\n",
    "import os\n",
    "from pathlib import Path\n",
    "os.getcwd()"
   ]
  },
  {
   "cell_type": "code",
   "execution_count": 2,
   "metadata": {},
   "outputs": [
    {
     "name": "stdout",
     "output_type": "stream",
     "text": [
      "warng pyCloudy config: pyCloudy works better with PyNeb\n"
     ]
    }
   ],
   "source": [
    "home = str(Path.home())\n",
    "cloudy = home+'/c17.01/source/cloudy.exe'\n",
    "import pyCloudy as pc\n",
    "# Changing the location and version of the cloudy executable.\n",
    "pc.config.cloudy_exe = cloudy"
   ]
  },
  {
   "cell_type": "code",
   "execution_count": 3,
   "metadata": {},
   "outputs": [
    {
     "data": {
      "text/plain": [
       "'/usr1/student/premv/Documents/Cloudy-explore-ISM-assignment/cloudy_files'"
      ]
     },
     "execution_count": 3,
     "metadata": {},
     "output_type": "execute_result"
    }
   ],
   "source": [
    "if os.getcwd()[-13:]!='/cloudy_files':\n",
    "    os.chdir(os.getcwd()+'/cloudy_files/')\n",
    "os.getcwd()"
   ]
  },
  {
   "cell_type": "code",
   "execution_count": 4,
   "metadata": {
    "scrolled": true
   },
   "outputs": [
    {
     "name": "stdout",
     "output_type": "stream",
     "text": [
      "total 608\n",
      "drwxr-xr-x 2 premv academic   4096 Apr 25 20:32 .\n",
      "drwxr-xr-x 6 premv academic   4096 Apr 25  2020 ..\n",
      "-rw-r--r-- 1 premv academic    585 Apr 25 20:32 demo1.in\n",
      "-rw-r--r-- 1 premv academic    584 Apr 24 23:29 demo.in\n",
      "-rw-r--r-- 1 premv academic 178114 Apr 24 19:39 demo.out\n",
      "-rw-r--r-- 1 premv academic   3899 Apr 25 00:22 hii_dummy.lin\n",
      "-rw-r--r-- 1 premv academic  83584 Apr 24 19:39 hii_dummy.ovr\n",
      "-rw-r--r-- 1 premv academic   3898 Apr 20 16:50 .lin\n",
      "-rw-r--r-- 1 premv academic    358 Apr 25 11:18 Makefile\n",
      "-rw-r--r-- 1 premv academic  83584 Apr 20 16:50 .ovr\n",
      "-rw-r--r-- 1 premv academic      5 Apr 19 16:56 test.in\n",
      "-rw-r--r-- 1 premv academic 223354 Apr 19 20:04 test.out\n",
      "\n"
     ]
    }
   ],
   "source": [
    "from subprocess import run, PIPE\n",
    "p = run(['ls','-al'],stdout=PIPE)\n",
    "print(str(p.stdout,'utf-8'))"
   ]
  },
  {
   "cell_type": "code",
   "execution_count": 5,
   "metadata": {},
   "outputs": [],
   "source": [
    "cloudin = \"\"\"black body, T = 40000 K radius = 12.113943\n",
    "CMB\n",
    "hden = 2\n",
    "init file=\"ism.ini\"\n",
    "abund he -1 C-3.6576 N-4.39794 O-3.481146 ne-4.30103 mg-8\n",
    "continue si-8 s-5.04576 cl=-7 ar-8 fe-8\n",
    "radius = 18.477121\n",
    "sphere\n",
    "set temperature floor 1000\n",
    "stop temperature 100K\n",
    "stop efrac -3\n",
    "database h-like element hydrogen levels resolved 10\n",
    "iterate\n",
    "normalize to \"Ca B\" 4861.36A\n",
    "print lines emergent off\n",
    "print column densities\n",
    "print line optical depths\n",
    "plot continuum range .1\n",
    "save overview last \".ovr\"\n",
    "save linelist \".lin\" \"LineList_HII.dat\" last no hash column\n",
    "table lines \"LineList_HII.dat\"\n",
    "\"\"\""
   ]
  },
  {
   "cell_type": "code",
   "execution_count": 6,
   "metadata": {},
   "outputs": [],
   "source": [
    "with open('demo1.in','wt') as demo1:\n",
    "    demo1.write(cloudin)"
   ]
  },
  {
   "cell_type": "code",
   "execution_count": 7,
   "metadata": {},
   "outputs": [],
   "source": [
    "pc.print_make_file(dir_=os.getcwd())"
   ]
  },
  {
   "cell_type": "code",
   "execution_count": 10,
   "metadata": {},
   "outputs": [],
   "source": [
    "pc.run_cloudy(dir_ = os.getcwd(), n_proc = 2, model_name = 'demo', use_make = True)"
   ]
  },
  {
   "cell_type": "code",
   "execution_count": 17,
   "metadata": {},
   "outputs": [
    {
     "name": "stdout",
     "output_type": "stream",
     "text": [
      "_Config         at 2020-04-25 23:37:41.075281 : cloudy_exe set to cloudy.exe\n",
      "PyCloudy init   at 2020-04-25 23:37:41.748136 : Starting pyCloudy.\n",
      "_Config         at 2020-04-25 23:37:41.748163 : db_connector set to PyMySQL\n",
      "PyCloudy init   at 2020-04-25 23:37:41.966988 : pyCloudy ready.\n",
      "_Config         at 2020-04-25 23:37:41.967150 : cloudy_exe set to /usr1/student/premv/c17.01/source/cloudy.exe\n",
      "run_cloudy      at 2020-04-25 23:38:41.390302 : running: cd /usr1/student/premv/Documents/Cloudy-explore-ISM-assignment/cloudy_files ; make -j 2 name=\"demo\"\n",
      "run_cloudy      at 2020-04-25 23:40:26.388549 : ending: cd /usr1/student/premv/Documents/Cloudy-explore-ISM-assignment/cloudy_files ; make -j 2 name=\"demo\"\n"
     ]
    }
   ],
   "source": [
    "pc.log_.print_messages()\n",
    "pc.log_.print_errors()"
   ]
  },
  {
   "cell_type": "code",
   "execution_count": 19,
   "metadata": {},
   "outputs": [],
   "source": [
    "import numpy as np\n",
    "ovr = np.genfromtxt('hii_dummy.ovr')\n",
    "# ovrdf = pd.DataFrame(ovr)"
   ]
  },
  {
   "cell_type": "code",
   "execution_count": 20,
   "metadata": {},
   "outputs": [],
   "source": [
    "import pandas as pd"
   ]
  },
  {
   "cell_type": "code",
   "execution_count": 21,
   "metadata": {},
   "outputs": [],
   "source": [
    "ovrdf = pd.read_csv('hii_dummy.ovr',delimiter=\"\\t\")\n",
    "lindf = pd.read_csv('hii_dummy.lin',delimiter=\"\\t\",skiprows=1)  #,comment='#'"
   ]
  },
  {
   "cell_type": "code",
   "execution_count": 24,
   "metadata": {},
   "outputs": [],
   "source": [
    "a =lindf['iteration 2']['O  3 1660.81A ']"
   ]
  },
  {
   "cell_type": "code",
   "execution_count": 26,
   "metadata": {},
   "outputs": [
    {
     "name": "stdout",
     "output_type": "stream",
     "text": [
      "NE 3 3868.76A  0.044267\n",
      "N  2 6583.45A  0.505\n",
      "N  2 121.767m  0.031826\n",
      "N  3 57.3238m  0.33283\n",
      "NE 2 12.8101m  0.20225\n",
      "NE 3 15.5509m  0.21919\n",
      "NE 3 36.0036m  0.019768\n"
     ]
    }
   ],
   "source": [
    "for line,value in lindf['iteration 2'].items():\n",
    "    if line[0]=='N' and value > .01:\n",
    "        print(line,value)"
   ]
  },
  {
   "cell_type": "code",
   "execution_count": 23,
   "metadata": {},
   "outputs": [
    {
     "data": {
      "text/html": [
       "<div>\n",
       "<style scoped>\n",
       "    .dataframe tbody tr th:only-of-type {\n",
       "        vertical-align: middle;\n",
       "    }\n",
       "\n",
       "    .dataframe tbody tr th {\n",
       "        vertical-align: top;\n",
       "    }\n",
       "\n",
       "    .dataframe thead th {\n",
       "        text-align: right;\n",
       "    }\n",
       "</style>\n",
       "<table border=\"1\" class=\"dataframe\">\n",
       "  <thead>\n",
       "    <tr style=\"text-align: right;\">\n",
       "      <th></th>\n",
       "      <th>iteration 2</th>\n",
       "    </tr>\n",
       "  </thead>\n",
       "  <tbody>\n",
       "    <tr>\n",
       "      <th>C  3 977.000A</th>\n",
       "      <td>6.671200e-04</td>\n",
       "    </tr>\n",
       "    <tr>\n",
       "      <th>N  3 991.000A</th>\n",
       "      <td>3.975700e-04</td>\n",
       "    </tr>\n",
       "    <tr>\n",
       "      <th>H  1 1025.72A</th>\n",
       "      <td>1.257700e-02</td>\n",
       "    </tr>\n",
       "    <tr>\n",
       "      <th>BLND 1035.00A</th>\n",
       "      <td>2.111200e-19</td>\n",
       "    </tr>\n",
       "    <tr>\n",
       "      <th>INCI 1215.00A</th>\n",
       "      <td>9.813700e+01</td>\n",
       "    </tr>\n",
       "    <tr>\n",
       "      <th>...</th>\n",
       "      <td>...</td>\n",
       "    </tr>\n",
       "    <tr>\n",
       "      <th>O  3 1660.81A</th>\n",
       "      <td>5.918200e-04</td>\n",
       "    </tr>\n",
       "    <tr>\n",
       "      <th>O  3 1666.15A</th>\n",
       "      <td>1.740500e-03</td>\n",
       "    </tr>\n",
       "    <tr>\n",
       "      <th>O  5 1218.34A</th>\n",
       "      <td>7.562200e-13</td>\n",
       "    </tr>\n",
       "    <tr>\n",
       "      <th>SI 3 1892.03A</th>\n",
       "      <td>1.395200e-05</td>\n",
       "    </tr>\n",
       "    <tr>\n",
       "      <th>BLND 2335.00A</th>\n",
       "      <td>9.380200e-06</td>\n",
       "    </tr>\n",
       "  </tbody>\n",
       "</table>\n",
       "<p>149 rows × 1 columns</p>\n",
       "</div>"
      ],
      "text/plain": [
       "                 iteration 2\n",
       "C  3 977.000A   6.671200e-04\n",
       "N  3 991.000A   3.975700e-04\n",
       "H  1 1025.72A   1.257700e-02\n",
       "BLND 1035.00A   2.111200e-19\n",
       "INCI 1215.00A   9.813700e+01\n",
       "...                      ...\n",
       "O  3 1660.81A   5.918200e-04\n",
       "O  3 1666.15A   1.740500e-03\n",
       "O  5 1218.34A   7.562200e-13\n",
       "SI 3 1892.03A   1.395200e-05\n",
       "BLND 2335.00A   9.380200e-06\n",
       "\n",
       "[149 rows x 1 columns]"
      ]
     },
     "execution_count": 23,
     "metadata": {},
     "output_type": "execute_result"
    }
   ],
   "source": [
    "lindf"
   ]
  },
  {
   "cell_type": "code",
   "execution_count": 27,
   "metadata": {},
   "outputs": [
    {
     "name": "stdout",
     "output_type": "stream",
     "text": [
      "[CompletedProcess(args='ls', returncode=0), CompletedProcess(args='ls', returncode=0), CompletedProcess(args='ls', returncode=0), CompletedProcess(args='ls', returncode=0), CompletedProcess(args='ls', returncode=0), CompletedProcess(args='ls', returncode=0), CompletedProcess(args='ls', returncode=0), CompletedProcess(args='ls', returncode=0), CompletedProcess(args='ls', returncode=0), CompletedProcess(args='ls', returncode=0), CompletedProcess(args='ls', returncode=0), CompletedProcess(args='ls', returncode=0), CompletedProcess(args='ls', returncode=0), CompletedProcess(args='ls', returncode=0), CompletedProcess(args='ls', returncode=0), CompletedProcess(args='ls', returncode=0)]\n"
     ]
    }
   ],
   "source": [
    "import multiprocessing\n",
    "\n",
    "def work(cmd):\n",
    "    return run(cmd, shell=False)\n",
    "\n",
    "if __name__ == '__main__':\n",
    "    count = multiprocessing.cpu_count()\n",
    "    pool = multiprocessing.Pool(processes=count)\n",
    "    print (pool.map(work, ['ls'] * count))"
   ]
  },
  {
   "cell_type": "code",
   "execution_count": null,
   "metadata": {},
   "outputs": [],
   "source": [
    "# cl_demo = run([cloudy,'-p','demo1'],stdout=PIPE)\n",
    "# print(str(cl_demo.stdout,'utf-8'))\n",
    "# cl_demo"
   ]
  }
 ],
 "metadata": {
  "kernelspec": {
   "display_name": "Python 3",
   "language": "python",
   "name": "python3"
  },
  "language_info": {
   "codemirror_mode": {
    "name": "ipython",
    "version": 3
   },
   "file_extension": ".py",
   "mimetype": "text/x-python",
   "name": "python",
   "nbconvert_exporter": "python",
   "pygments_lexer": "ipython3",
   "version": "3.7.6"
  },
  "varInspector": {
   "cols": {
    "lenName": 16,
    "lenType": 16,
    "lenVar": 40
   },
   "kernels_config": {
    "python": {
     "delete_cmd_postfix": "",
     "delete_cmd_prefix": "del ",
     "library": "var_list.py",
     "varRefreshCmd": "print(var_dic_list())"
    },
    "r": {
     "delete_cmd_postfix": ") ",
     "delete_cmd_prefix": "rm(",
     "library": "var_list.r",
     "varRefreshCmd": "cat(var_dic_list()) "
    }
   },
   "position": {
    "height": "461.85px",
    "left": "584px",
    "right": "20px",
    "top": "115px",
    "width": "638px"
   },
   "types_to_exclude": [
    "module",
    "function",
    "builtin_function_or_method",
    "instance",
    "_Feature"
   ],
   "window_display": false
  }
 },
 "nbformat": 4,
 "nbformat_minor": 4
}
