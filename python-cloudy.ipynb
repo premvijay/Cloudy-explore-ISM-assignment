{
 "cells": [
  {
   "cell_type": "code",
   "execution_count": 54,
   "metadata": {},
   "outputs": [],
   "source": [
    "import pyCloudy as pc"
   ]
  },
  {
   "cell_type": "code",
   "execution_count": 64,
   "metadata": {},
   "outputs": [],
   "source": [
    "import os\n",
    "from pathlib import Path\n",
    "home = str(Path.home())\n",
    "cloudy = home+'/c17.01/source/cloudy.exe'\n",
    "pc.config.cloudy_exe = cloudy\n",
    "# cl_dir = './cloudy_files/'\n",
    "try:\n",
    "    os.chdir('./cloudy_files/')\n",
    "except:\n",
    "    pass"
   ]
  },
  {
   "cell_type": "code",
   "execution_count": 65,
   "metadata": {},
   "outputs": [
    {
     "name": "stdout",
     "output_type": "stream",
     "text": [
      "total 504\n",
      "drwxr-xr-x 2 premv academic   4096 Apr 20  2020 .\n",
      "drwxr-xr-x 6 premv academic   4096 Apr 20  2020 ..\n",
      "-rw-r--r-- 1 premv academic    538 Apr 20  2020 demo.in\n",
      "-rw-r--r-- 1 premv academic 169583 Apr 20  2020 demo.out\n",
      "-rw-r--r-- 1 premv academic   3898 Apr 20  2020 .lin\n",
      "-rw-r--r-- 1 premv academic    324 Apr 20  2020 Makefile\n",
      "-rw-r--r-- 1 premv academic  83584 Apr 20  2020 .ovr\n",
      "-rw-r--r-- 1 premv academic      5 Apr 19 16:56 test.in\n",
      "-rw-r--r-- 1 premv academic 223354 Apr 19 20:04 test.out\n",
      "\n"
     ]
    }
   ],
   "source": [
    "from subprocess import run, PIPE\n",
    "p = run(['ls','-al'],stdout=PIPE)\n",
    "print(str(p.stdout,'utf-8'))"
   ]
  },
  {
   "cell_type": "code",
   "execution_count": 40,
   "metadata": {},
   "outputs": [],
   "source": [
    "cl_demo = run([cloudy,'-r','demo'],stdout=PIPE)"
   ]
  },
  {
   "cell_type": "code",
   "execution_count": 63,
   "metadata": {},
   "outputs": [
    {
     "name": "stdout",
     "output_type": "stream",
     "text": [
      "total 504\r\n",
      "drwxr-xr-x 2 premv academic   4096 Apr 20  2020 \u001b[0m\u001b[38;5;27m.\u001b[0m/\r\n",
      "drwxr-xr-x 6 premv academic   4096 Apr 20  2020 \u001b[38;5;27m..\u001b[0m/\r\n",
      "-rw-r--r-- 1 premv academic    538 Apr 20  2020 demo.in\r\n",
      "-rw-r--r-- 1 premv academic 169583 Apr 20  2020 demo.out\r\n",
      "-rw-r--r-- 1 premv academic   3898 Apr 20  2020 .lin\r\n",
      "-rw-r--r-- 1 premv academic    324 Apr 20  2020 Makefile\r\n",
      "-rw-r--r-- 1 premv academic  83584 Apr 20  2020 .ovr\r\n",
      "-rw-r--r-- 1 premv academic      5 Apr 19 16:56 test.in\r\n",
      "-rw-r--r-- 1 premv academic 223354 Apr 19 20:04 test.out\r\n",
      "\u001b[m"
     ]
    }
   ],
   "source": [
    "ls -al"
   ]
  },
  {
   "cell_type": "code",
   "execution_count": 43,
   "metadata": {},
   "outputs": [
    {
     "name": "stdout",
     "output_type": "stream",
     "text": [
      "\n"
     ]
    }
   ],
   "source": [
    "print(str(cl_demo.stdout,'utf-8'))"
   ]
  },
  {
   "cell_type": "code",
   "execution_count": 44,
   "metadata": {},
   "outputs": [
    {
     "data": {
      "text/plain": [
       "CompletedProcess(args=['/usr1/student/premv/c17.01/source/cloudy.exe', '-r', 'demo'], returncode=0, stdout=b'')"
      ]
     },
     "execution_count": 44,
     "metadata": {},
     "output_type": "execute_result"
    }
   ],
   "source": [
    "cl_demo"
   ]
  },
  {
   "cell_type": "code",
   "execution_count": 46,
   "metadata": {},
   "outputs": [
    {
     "data": {
      "text/plain": [
       "'/usr1/student/premv/c17.01/source/'"
      ]
     },
     "execution_count": 46,
     "metadata": {},
     "output_type": "execute_result"
    }
   ],
   "source": [
    "home+'/c17.01/source/'"
   ]
  },
  {
   "cell_type": "code",
   "execution_count": 53,
   "metadata": {},
   "outputs": [
    {
     "data": {
      "text/plain": [
       "1"
      ]
     },
     "execution_count": 53,
     "metadata": {},
     "output_type": "execute_result"
    }
   ],
   "source": [
    "1"
   ]
  },
  {
   "cell_type": "code",
   "execution_count": 52,
   "metadata": {},
   "outputs": [
    {
     "name": "stdout",
     "output_type": "stream",
     "text": [
      "[0, 0, 0, 0, 0, 0, 0, 0, 0, 0, 0, 0, 0, 0, 0, 0]\n"
     ]
    }
   ],
   "source": [
    "import multiprocessing\n",
    "import subprocess\n",
    "\n",
    "def work(cmd):\n",
    "    return subprocess.call(cmd, shell=False)\n",
    "\n",
    "if __name__ == '__main__':\n",
    "    count = multiprocessing.cpu_count()\n",
    "    pool = multiprocessing.Pool(processes=count)\n",
    "    print (pool.map(work, ['ls'] * count))"
   ]
  },
  {
   "cell_type": "code",
   "execution_count": 66,
   "metadata": {},
   "outputs": [],
   "source": [
    "pc.print_make_file(dir_=os.getcwd())"
   ]
  },
  {
   "cell_type": "code",
   "execution_count": null,
   "metadata": {},
   "outputs": [],
   "source": []
  }
 ],
 "metadata": {
  "kernelspec": {
   "display_name": "Python 3",
   "language": "python",
   "name": "python3"
  },
  "language_info": {
   "codemirror_mode": {
    "name": "ipython",
    "version": 3
   },
   "file_extension": ".py",
   "mimetype": "text/x-python",
   "name": "python",
   "nbconvert_exporter": "python",
   "pygments_lexer": "ipython3",
   "version": "3.7.6"
  }
 },
 "nbformat": 4,
 "nbformat_minor": 4
}
